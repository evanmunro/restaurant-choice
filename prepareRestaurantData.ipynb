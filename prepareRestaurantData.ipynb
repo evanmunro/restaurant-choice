{
 "cells": [
  {
   "cell_type": "markdown",
   "metadata": {},
   "source": [
    "## Notebook 1: Data Preparation for CS230 Project using Dask and Pandas\n",
    "\n",
    "First, load 10GB TSV file as Dask Dataframe"
   ]
  },
  {
   "cell_type": "code",
   "execution_count": 7,
   "metadata": {},
   "outputs": [
    {
     "data": {
      "text/html": [
       "<div>\n",
       "<style scoped>\n",
       "    .dataframe tbody tr th:only-of-type {\n",
       "        vertical-align: middle;\n",
       "    }\n",
       "\n",
       "    .dataframe tbody tr th {\n",
       "        vertical-align: top;\n",
       "    }\n",
       "\n",
       "    .dataframe thead th {\n",
       "        text-align: right;\n",
       "    }\n",
       "</style>\n",
       "<table border=\"1\" class=\"dataframe\">\n",
       "  <thead>\n",
       "    <tr style=\"text-align: right;\">\n",
       "      <th></th>\n",
       "      <th>item_id</th>\n",
       "      <th>session_id</th>\n",
       "      <th>assignment</th>\n",
       "      <th>user_id</th>\n",
       "      <th>chosen</th>\n",
       "      <th>distance</th>\n",
       "      <th>week</th>\n",
       "      <th>day</th>\n",
       "      <th>rating_in_sample</th>\n",
       "      <th>rating_in_sample_missing</th>\n",
       "      <th>...</th>\n",
       "      <th>category__himalayan</th>\n",
       "      <th>category__waffles</th>\n",
       "      <th>category__russian</th>\n",
       "      <th>category__indonesian</th>\n",
       "      <th>category__dancerestaurants</th>\n",
       "      <th>factor(pricerange)1</th>\n",
       "      <th>factor(pricerange)2</th>\n",
       "      <th>factor(pricerange)3</th>\n",
       "      <th>factor(pricerange)4</th>\n",
       "      <th>factor(pricerange)NA</th>\n",
       "    </tr>\n",
       "  </thead>\n",
       "  <tbody>\n",
       "    <tr>\n",
       "      <th>0</th>\n",
       "      <td>1003</td>\n",
       "      <td>100262</td>\n",
       "      <td>tr</td>\n",
       "      <td>8600</td>\n",
       "      <td>0</td>\n",
       "      <td>0.190</td>\n",
       "      <td>2017-01-02 08:00:00</td>\n",
       "      <td>2017-01-02 08:00:00</td>\n",
       "      <td>2.917</td>\n",
       "      <td>0</td>\n",
       "      <td>...</td>\n",
       "      <td>0</td>\n",
       "      <td>0</td>\n",
       "      <td>0</td>\n",
       "      <td>0</td>\n",
       "      <td>0</td>\n",
       "      <td>1</td>\n",
       "      <td>0</td>\n",
       "      <td>0</td>\n",
       "      <td>0</td>\n",
       "      <td>0</td>\n",
       "    </tr>\n",
       "    <tr>\n",
       "      <th>1</th>\n",
       "      <td>1008</td>\n",
       "      <td>100262</td>\n",
       "      <td>tr</td>\n",
       "      <td>8600</td>\n",
       "      <td>0</td>\n",
       "      <td>5.688</td>\n",
       "      <td>2017-01-02 08:00:00</td>\n",
       "      <td>2017-01-02 08:00:00</td>\n",
       "      <td>3.333</td>\n",
       "      <td>0</td>\n",
       "      <td>...</td>\n",
       "      <td>0</td>\n",
       "      <td>0</td>\n",
       "      <td>0</td>\n",
       "      <td>0</td>\n",
       "      <td>0</td>\n",
       "      <td>0</td>\n",
       "      <td>1</td>\n",
       "      <td>0</td>\n",
       "      <td>0</td>\n",
       "      <td>0</td>\n",
       "    </tr>\n",
       "    <tr>\n",
       "      <th>2</th>\n",
       "      <td>1014</td>\n",
       "      <td>100262</td>\n",
       "      <td>tr</td>\n",
       "      <td>8600</td>\n",
       "      <td>0</td>\n",
       "      <td>0.781</td>\n",
       "      <td>2017-01-02 08:00:00</td>\n",
       "      <td>2017-01-02 08:00:00</td>\n",
       "      <td>2.765</td>\n",
       "      <td>0</td>\n",
       "      <td>...</td>\n",
       "      <td>0</td>\n",
       "      <td>0</td>\n",
       "      <td>0</td>\n",
       "      <td>0</td>\n",
       "      <td>0</td>\n",
       "      <td>0</td>\n",
       "      <td>1</td>\n",
       "      <td>0</td>\n",
       "      <td>0</td>\n",
       "      <td>0</td>\n",
       "    </tr>\n",
       "    <tr>\n",
       "      <th>3</th>\n",
       "      <td>1029</td>\n",
       "      <td>100262</td>\n",
       "      <td>tr</td>\n",
       "      <td>8600</td>\n",
       "      <td>0</td>\n",
       "      <td>0.430</td>\n",
       "      <td>2017-01-02 08:00:00</td>\n",
       "      <td>2017-01-02 08:00:00</td>\n",
       "      <td>4.000</td>\n",
       "      <td>0</td>\n",
       "      <td>...</td>\n",
       "      <td>0</td>\n",
       "      <td>0</td>\n",
       "      <td>0</td>\n",
       "      <td>0</td>\n",
       "      <td>0</td>\n",
       "      <td>1</td>\n",
       "      <td>0</td>\n",
       "      <td>0</td>\n",
       "      <td>0</td>\n",
       "      <td>0</td>\n",
       "    </tr>\n",
       "    <tr>\n",
       "      <th>4</th>\n",
       "      <td>1035</td>\n",
       "      <td>100262</td>\n",
       "      <td>tr</td>\n",
       "      <td>8600</td>\n",
       "      <td>0</td>\n",
       "      <td>5.218</td>\n",
       "      <td>2017-01-02 08:00:00</td>\n",
       "      <td>2017-01-02 08:00:00</td>\n",
       "      <td>3.579</td>\n",
       "      <td>0</td>\n",
       "      <td>...</td>\n",
       "      <td>0</td>\n",
       "      <td>0</td>\n",
       "      <td>0</td>\n",
       "      <td>0</td>\n",
       "      <td>0</td>\n",
       "      <td>0</td>\n",
       "      <td>1</td>\n",
       "      <td>0</td>\n",
       "      <td>0</td>\n",
       "      <td>0</td>\n",
       "    </tr>\n",
       "  </tbody>\n",
       "</table>\n",
       "<p>5 rows × 103 columns</p>\n",
       "</div>"
      ],
      "text/plain": [
       "   item_id  session_id assignment  user_id  chosen  distance  \\\n",
       "0     1003      100262         tr     8600       0     0.190   \n",
       "1     1008      100262         tr     8600       0     5.688   \n",
       "2     1014      100262         tr     8600       0     0.781   \n",
       "3     1029      100262         tr     8600       0     0.430   \n",
       "4     1035      100262         tr     8600       0     5.218   \n",
       "\n",
       "                 week                 day  rating_in_sample  \\\n",
       "0 2017-01-02 08:00:00 2017-01-02 08:00:00             2.917   \n",
       "1 2017-01-02 08:00:00 2017-01-02 08:00:00             3.333   \n",
       "2 2017-01-02 08:00:00 2017-01-02 08:00:00             2.765   \n",
       "3 2017-01-02 08:00:00 2017-01-02 08:00:00             4.000   \n",
       "4 2017-01-02 08:00:00 2017-01-02 08:00:00             3.579   \n",
       "\n",
       "   rating_in_sample_missing          ...           category__himalayan  \\\n",
       "0                         0          ...                             0   \n",
       "1                         0          ...                             0   \n",
       "2                         0          ...                             0   \n",
       "3                         0          ...                             0   \n",
       "4                         0          ...                             0   \n",
       "\n",
       "   category__waffles  category__russian  category__indonesian  \\\n",
       "0                  0                  0                     0   \n",
       "1                  0                  0                     0   \n",
       "2                  0                  0                     0   \n",
       "3                  0                  0                     0   \n",
       "4                  0                  0                     0   \n",
       "\n",
       "   category__dancerestaurants  factor(pricerange)1  factor(pricerange)2  \\\n",
       "0                           0                    1                    0   \n",
       "1                           0                    0                    1   \n",
       "2                           0                    0                    1   \n",
       "3                           0                    1                    0   \n",
       "4                           0                    0                    1   \n",
       "\n",
       "   factor(pricerange)3  factor(pricerange)4  factor(pricerange)NA  \n",
       "0                    0                    0                     0  \n",
       "1                    0                    0                     0  \n",
       "2                    0                    0                     0  \n",
       "3                    0                    0                     0  \n",
       "4                    0                    0                     0  \n",
       "\n",
       "[5 rows x 103 columns]"
      ]
     },
     "execution_count": 7,
     "metadata": {},
     "output_type": "execute_result"
    }
   ],
   "source": [
    "import dask.dataframe as dd \n",
    "import dask.array as da \n",
    "from dask.distributed import Client \n",
    "import pandas as pd \n",
    "import matplotlib.pyplot as plt\n",
    "%matplotlib inline \n",
    "#df = dd.read_hdf('rest_choice.h5','/data')\n",
    "df = dd.read_csv(\"/home/groups/athey/store-visits/data/choicesDateSorted.tsv\",parse_dates=[\"week\",\"day\"],sep=\"\\t\",dtype={'rating_in_sample':'float64'})\n",
    "df.head()"
   ]
  },
  {
   "cell_type": "markdown",
   "metadata": {},
   "source": [
    "## 1. Plots and Summary Statistics about Chosen Restaurants"
   ]
  },
  {
   "cell_type": "code",
   "execution_count": 4,
   "metadata": {
    "collapsed": true
   },
   "outputs": [],
   "source": [
    "chosen = df[df['chosen']>0].persist() "
   ]
  },
  {
   "cell_type": "code",
   "execution_count": 5,
   "metadata": {},
   "outputs": [
    {
     "name": "stdout",
     "output_type": "stream",
     "text": [
      "Latest day:  2017-10-31 07:00:00\n",
      "Earliest day:  2017-01-02 08:00:00\n",
      "Average Rating:  3.291987354184708\n",
      "Average Distance:  2.006539414701238\n",
      "How many ratings imputed?:  8261\n"
     ]
    }
   ],
   "source": [
    "print(\"Latest day: \",chosen.day.max().compute())\n",
    "print(\"Earliest day: \",chosen.day.min().compute())\n",
    "print(\"Average Rating: \", chosen.rating_in_sample.mean().compute())\n",
    "print(\"Average Distance: \",chosen.distance.mean().compute())\n",
    "print(\"How many ratings imputed?: \", chosen.rating_in_sample_missing.sum().compute())"
   ]
  },
  {
   "cell_type": "markdown",
   "metadata": {},
   "source": [
    "#### Histograms of distances and ratings"
   ]
  },
  {
   "cell_type": "code",
   "execution_count": 21,
   "metadata": {},
   "outputs": [
    {
     "data": {
      "image/png": "[encoded data removed]",
      "text/plain": [
       "<Figure size 432x288 with 1 Axes>"
      ]
     },
     "metadata": {},
     "output_type": "display_data"
    },
    {
     "data": {
      "image/png": "[encoded data removed]",
      "text/plain": [
       "<Figure size 432x288 with 1 Axes>"
      ]
     },
     "metadata": {},
     "output_type": "display_data"
    }
   ],
   "source": [
    "plt.figure() \n",
    "distanceSum = chosen.distance.compute() \n",
    "distanceSum.hist()\n",
    "plt.xlabel('Miles from User')\n",
    "plt.title('Restaurants Chosen by Distance')\n",
    "plt.grid()\n",
    "plt.savefig('distances_hist.png')\n",
    "\n",
    "plt.figure() \n",
    "ratingSum = chosen.rating_in_sample.compute()\n",
    "ratingSum.hist()\n",
    "plt.xlabel('Yelp Rating')\n",
    "plt.title('Restaurants Chosen by Rating')\n",
    "plt.grid()\n",
    "plt.savefig('ratings_hist.png')\n",
    "\n"
   ]
  },
  {
   "cell_type": "markdown",
   "metadata": {},
   "source": [
    "#### Time Series Plots"
   ]
  },
  {
   "cell_type": "code",
   "execution_count": 27,
   "metadata": {},
   "outputs": [
    {
     "data": {
      "image/png": "[encoded data removed]",
      "text/plain": [
       "<Figure size 432x288 with 1 Axes>"
      ]
     },
     "metadata": {},
     "output_type": "display_data"
    }
   ],
   "source": [
    "plt.figure() \n",
    "byDay = chosen.groupby(['day']).chosen.sum()\n",
    "byDay.compute().plot()\n",
    "plt.xlabel(\"Day\")\n",
    "plt.ylabel(\"Number of Restaurants Chosen\")\n",
    "plt.title(\"Number of Choice Sessions Recorded over Time\")\n",
    "plt.savefig(\"countsessions.png\")\n",
    "##sportsByDay = chosen.groupby(['day']).category__sportsbars.sum() \n",
    "#plt.figure() \n",
    "#chineseByDay.compute().plot() \n",
    "#plt.figure() \n",
    "#sportsByDay.compute().plot() \n",
    "\n",
    "#plt.figure() \n",
    "#chosen.groupby(['day']).category__bars.sum().compute().plot() \n"
   ]
  },
  {
   "cell_type": "markdown",
   "metadata": {},
   "source": [
    "## 2. Save data as HDF5 for Estimation in PyTorch"
   ]
  },
  {
   "cell_type": "code",
   "execution_count": 3,
   "metadata": {
    "collapsed": true
   },
   "outputs": [
    {
     "data": {
      "text/html": [
       "<div>\n",
       "<style scoped>\n",
       "    .dataframe tbody tr th:only-of-type {\n",
       "        vertical-align: middle;\n",
       "    }\n",
       "\n",
       "    .dataframe tbody tr th {\n",
       "        vertical-align: top;\n",
       "    }\n",
       "\n",
       "    .dataframe thead th {\n",
       "        text-align: right;\n",
       "    }\n",
       "</style>\n",
       "<table border=\"1\" class=\"dataframe\">\n",
       "  <thead>\n",
       "    <tr style=\"text-align: right;\">\n",
       "      <th></th>\n",
       "      <th>item_id</th>\n",
       "      <th>item_idx</th>\n",
       "    </tr>\n",
       "  </thead>\n",
       "  <tbody>\n",
       "    <tr>\n",
       "      <th>0</th>\n",
       "      <td>1003</td>\n",
       "      <td>0</td>\n",
       "    </tr>\n",
       "    <tr>\n",
       "      <th>1</th>\n",
       "      <td>1008</td>\n",
       "      <td>1</td>\n",
       "    </tr>\n",
       "    <tr>\n",
       "      <th>2</th>\n",
       "      <td>1014</td>\n",
       "      <td>2</td>\n",
       "    </tr>\n",
       "    <tr>\n",
       "      <th>3</th>\n",
       "      <td>1029</td>\n",
       "      <td>3</td>\n",
       "    </tr>\n",
       "    <tr>\n",
       "      <th>4</th>\n",
       "      <td>1035</td>\n",
       "      <td>4</td>\n",
       "    </tr>\n",
       "  </tbody>\n",
       "</table>\n",
       "</div>"
      ],
      "text/plain": [
       "   item_id  item_idx\n",
       "0     1003         0\n",
       "1     1008         1\n",
       "2     1014         2\n",
       "3     1029         3\n",
       "4     1035         4"
      ]
     },
     "execution_count": 3,
     "metadata": {},
     "output_type": "execute_result"
    }
   ],
   "source": [
    "#re-index sessions, restaurants, and users for easier model computation \n",
    "sessions = df['session_id'].drop_duplicates().compute() \n",
    "session_idx_df = pd.DataFrame({'session_id': sessions,'session_idx':range(len(sessions))})\n",
    "session_idx_df.index = session_idx_df['session_idx'].values\n",
    "session_idx_df.head()\n",
    "\n",
    "users = df['user_id'].drop_duplicates().compute() \n",
    "user_idx_df = pd.DataFrame({'user_id': users,'user_idx':range(len(users))})\n",
    "user_idx_df.index = user_idx_df['user_idx'].values\n",
    "user_idx_df.head()\n",
    "\n",
    "items = df['item_id'].drop_duplicates().compute() \n",
    "item_idx_df = pd.DataFrame({'item_id': items,'item_idx':range(len(items))})\n",
    "item_idx_df.index = item_idx_df['item_idx'].values\n",
    "item_idx_df.head()\n"
   ]
  },
  {
   "cell_type": "code",
   "execution_count": 8,
   "metadata": {},
   "outputs": [
    {
     "data": {
      "text/html": [
       "<div>\n",
       "<style scoped>\n",
       "    .dataframe tbody tr th:only-of-type {\n",
       "        vertical-align: middle;\n",
       "    }\n",
       "\n",
       "    .dataframe tbody tr th {\n",
       "        vertical-align: top;\n",
       "    }\n",
       "\n",
       "    .dataframe thead th {\n",
       "        text-align: right;\n",
       "    }\n",
       "</style>\n",
       "<table border=\"1\" class=\"dataframe\">\n",
       "  <thead>\n",
       "    <tr style=\"text-align: right;\">\n",
       "      <th></th>\n",
       "      <th>item_id</th>\n",
       "      <th>session_id</th>\n",
       "      <th>assignment</th>\n",
       "      <th>user_id</th>\n",
       "      <th>chosen</th>\n",
       "      <th>distance</th>\n",
       "      <th>week</th>\n",
       "      <th>day</th>\n",
       "      <th>rating_in_sample</th>\n",
       "      <th>rating_in_sample_missing</th>\n",
       "      <th>...</th>\n",
       "      <th>category__indonesian</th>\n",
       "      <th>category__dancerestaurants</th>\n",
       "      <th>factor(pricerange)1</th>\n",
       "      <th>factor(pricerange)2</th>\n",
       "      <th>factor(pricerange)3</th>\n",
       "      <th>factor(pricerange)4</th>\n",
       "      <th>factor(pricerange)NA</th>\n",
       "      <th>session_idx</th>\n",
       "      <th>user_idx</th>\n",
       "      <th>item_idx</th>\n",
       "    </tr>\n",
       "  </thead>\n",
       "  <tbody>\n",
       "    <tr>\n",
       "      <th>0</th>\n",
       "      <td>1003</td>\n",
       "      <td>100262</td>\n",
       "      <td>tr</td>\n",
       "      <td>8600</td>\n",
       "      <td>0</td>\n",
       "      <td>0.190</td>\n",
       "      <td>2017-01-02 08:00:00</td>\n",
       "      <td>2017-01-02 08:00:00</td>\n",
       "      <td>2.917</td>\n",
       "      <td>0</td>\n",
       "      <td>...</td>\n",
       "      <td>0</td>\n",
       "      <td>0</td>\n",
       "      <td>1</td>\n",
       "      <td>0</td>\n",
       "      <td>0</td>\n",
       "      <td>0</td>\n",
       "      <td>0</td>\n",
       "      <td>0</td>\n",
       "      <td>0</td>\n",
       "      <td>0</td>\n",
       "    </tr>\n",
       "    <tr>\n",
       "      <th>1</th>\n",
       "      <td>1008</td>\n",
       "      <td>100262</td>\n",
       "      <td>tr</td>\n",
       "      <td>8600</td>\n",
       "      <td>0</td>\n",
       "      <td>5.688</td>\n",
       "      <td>2017-01-02 08:00:00</td>\n",
       "      <td>2017-01-02 08:00:00</td>\n",
       "      <td>3.333</td>\n",
       "      <td>0</td>\n",
       "      <td>...</td>\n",
       "      <td>0</td>\n",
       "      <td>0</td>\n",
       "      <td>0</td>\n",
       "      <td>1</td>\n",
       "      <td>0</td>\n",
       "      <td>0</td>\n",
       "      <td>0</td>\n",
       "      <td>0</td>\n",
       "      <td>0</td>\n",
       "      <td>1</td>\n",
       "    </tr>\n",
       "    <tr>\n",
       "      <th>2</th>\n",
       "      <td>1014</td>\n",
       "      <td>100262</td>\n",
       "      <td>tr</td>\n",
       "      <td>8600</td>\n",
       "      <td>0</td>\n",
       "      <td>0.781</td>\n",
       "      <td>2017-01-02 08:00:00</td>\n",
       "      <td>2017-01-02 08:00:00</td>\n",
       "      <td>2.765</td>\n",
       "      <td>0</td>\n",
       "      <td>...</td>\n",
       "      <td>0</td>\n",
       "      <td>0</td>\n",
       "      <td>0</td>\n",
       "      <td>1</td>\n",
       "      <td>0</td>\n",
       "      <td>0</td>\n",
       "      <td>0</td>\n",
       "      <td>0</td>\n",
       "      <td>0</td>\n",
       "      <td>2</td>\n",
       "    </tr>\n",
       "    <tr>\n",
       "      <th>3</th>\n",
       "      <td>1029</td>\n",
       "      <td>100262</td>\n",
       "      <td>tr</td>\n",
       "      <td>8600</td>\n",
       "      <td>0</td>\n",
       "      <td>0.430</td>\n",
       "      <td>2017-01-02 08:00:00</td>\n",
       "      <td>2017-01-02 08:00:00</td>\n",
       "      <td>4.000</td>\n",
       "      <td>0</td>\n",
       "      <td>...</td>\n",
       "      <td>0</td>\n",
       "      <td>0</td>\n",
       "      <td>1</td>\n",
       "      <td>0</td>\n",
       "      <td>0</td>\n",
       "      <td>0</td>\n",
       "      <td>0</td>\n",
       "      <td>0</td>\n",
       "      <td>0</td>\n",
       "      <td>3</td>\n",
       "    </tr>\n",
       "    <tr>\n",
       "      <th>4</th>\n",
       "      <td>1035</td>\n",
       "      <td>100262</td>\n",
       "      <td>tr</td>\n",
       "      <td>8600</td>\n",
       "      <td>0</td>\n",
       "      <td>5.218</td>\n",
       "      <td>2017-01-02 08:00:00</td>\n",
       "      <td>2017-01-02 08:00:00</td>\n",
       "      <td>3.579</td>\n",
       "      <td>0</td>\n",
       "      <td>...</td>\n",
       "      <td>0</td>\n",
       "      <td>0</td>\n",
       "      <td>0</td>\n",
       "      <td>1</td>\n",
       "      <td>0</td>\n",
       "      <td>0</td>\n",
       "      <td>0</td>\n",
       "      <td>0</td>\n",
       "      <td>0</td>\n",
       "      <td>4</td>\n",
       "    </tr>\n",
       "  </tbody>\n",
       "</table>\n",
       "<p>5 rows × 106 columns</p>\n",
       "</div>"
      ],
      "text/plain": [
       "   item_id  session_id assignment  user_id  chosen  distance  \\\n",
       "0     1003      100262         tr     8600       0     0.190   \n",
       "1     1008      100262         tr     8600       0     5.688   \n",
       "2     1014      100262         tr     8600       0     0.781   \n",
       "3     1029      100262         tr     8600       0     0.430   \n",
       "4     1035      100262         tr     8600       0     5.218   \n",
       "\n",
       "                 week                 day  rating_in_sample  \\\n",
       "0 2017-01-02 08:00:00 2017-01-02 08:00:00             2.917   \n",
       "1 2017-01-02 08:00:00 2017-01-02 08:00:00             3.333   \n",
       "2 2017-01-02 08:00:00 2017-01-02 08:00:00             2.765   \n",
       "3 2017-01-02 08:00:00 2017-01-02 08:00:00             4.000   \n",
       "4 2017-01-02 08:00:00 2017-01-02 08:00:00             3.579   \n",
       "\n",
       "   rating_in_sample_missing    ...     category__indonesian  \\\n",
       "0                         0    ...                        0   \n",
       "1                         0    ...                        0   \n",
       "2                         0    ...                        0   \n",
       "3                         0    ...                        0   \n",
       "4                         0    ...                        0   \n",
       "\n",
       "   category__dancerestaurants  factor(pricerange)1  factor(pricerange)2  \\\n",
       "0                           0                    1                    0   \n",
       "1                           0                    0                    1   \n",
       "2                           0                    0                    1   \n",
       "3                           0                    1                    0   \n",
       "4                           0                    0                    1   \n",
       "\n",
       "   factor(pricerange)3  factor(pricerange)4  factor(pricerange)NA  \\\n",
       "0                    0                    0                     0   \n",
       "1                    0                    0                     0   \n",
       "2                    0                    0                     0   \n",
       "3                    0                    0                     0   \n",
       "4                    0                    0                     0   \n",
       "\n",
       "   session_idx  user_idx  item_idx  \n",
       "0            0         0         0  \n",
       "1            0         0         1  \n",
       "2            0         0         2  \n",
       "3            0         0         3  \n",
       "4            0         0         4  \n",
       "\n",
       "[5 rows x 106 columns]"
      ]
     },
     "execution_count": 8,
     "metadata": {},
     "output_type": "execute_result"
    }
   ],
   "source": [
    "df = df.merge(session_idx_df,left_on='session_id', right_on='session_id', how='left') \n",
    "df = df.merge(user_idx_df,left_on='user_id', right_on='user_id', how='left') \n",
    "df = df.merge(item_idx_df,left_on='item_id', right_on='item_id', how='left') \n",
    "df.head() "
   ]
  },
  {
   "cell_type": "code",
   "execution_count": 9,
   "metadata": {
    "collapsed": true
   },
   "outputs": [],
   "source": [
    "df = df.set_index(df.session_idx,sorted=True)\n",
    "df['log_distance'] = da.log(df['distance'])"
   ]
  },
  {
   "cell_type": "code",
   "execution_count": 16,
   "metadata": {},
   "outputs": [
    {
     "name": "stdout",
     "output_type": "stream",
     "text": [
      "done converting\n"
     ]
    }
   ],
   "source": [
    "#df.to_hdf('rest_choice.h5','/data')\n",
    "df['session_id'].drop_duplicates().to_hdf('rest_choice.h5','/sessions')\n",
    "df['user_id'].drop_duplicates().to_hdf('rest_choice.h5','/users')\n",
    "df['item_id'].drop_duplicates().to_hdf('rest_choice.h5','/items')\n",
    "print(\"done converting\")"
   ]
  },
  {
   "cell_type": "code",
   "execution_count": 17,
   "metadata": {},
   "outputs": [
    {
     "data": {
      "text/plain": [
       "session_idx\n",
       "0    1003\n",
       "0    1008\n",
       "0    1014\n",
       "0    1029\n",
       "0    1035\n",
       "Name: item_id, dtype: int64"
      ]
     },
     "execution_count": 17,
     "metadata": {},
     "output_type": "execute_result"
    }
   ],
   "source": [
    "#sessions.to_hdf('rest_choice.h5','/sessions')\n",
    "test = dd.read_hdf('rest_choice.h5','/items')\n",
    "test.head() "
   ]
  },
  {
   "cell_type": "markdown",
   "metadata": {},
   "source": [
    "## 3.  Summary Statistics about Full Dataset"
   ]
  },
  {
   "cell_type": "code",
   "execution_count": 114,
   "metadata": {
    "scrolled": true
   },
   "outputs": [
    {
     "name": "stdout",
     "output_type": "stream",
     "text": [
      "Number of restaurants:  4921\n",
      "Number of choice sessions:  78524\n",
      "Number of users:  8552\n"
     ]
    }
   ],
   "source": [
    "print(\"Number of restaurants: \", df.item_id.nunique().compute()) \n",
    "print(\"Number of choice sessions: \", df.session_id.nunique().compute())\n",
    "print(\"Number of users: \", df.user_id.nunique().compute())"
   ]
  },
  {
   "cell_type": "markdown",
   "metadata": {},
   "source": []
  },
  {
   "cell_type": "code",
   "execution_count": 115,
   "metadata": {
    "collapsed": true
   },
   "outputs": [],
   "source": [
    "restaurant_counts = df.item_id.value_counts() \n",
    "user_counts = df.groupby('user_id').chosen.sum()"
   ]
  },
  {
   "cell_type": "markdown",
   "metadata": {},
   "source": [
    "4. Get a restaurant-user count matrix "
   ]
  },
  {
   "cell_type": "code",
   "execution_count": 31,
   "metadata": {
    "collapsed": true
   },
   "outputs": [],
   "source": [
    "#user_restaurant_counts = df.groupby(['user_id','item_id']).chosen.sum().compute() "
   ]
  },
  {
   "cell_type": "code",
   "execution_count": 116,
   "metadata": {},
   "outputs": [
    {
     "name": "stdout",
     "output_type": "stream",
     "text": [
      "Maximum sessions per user 145\n",
      "Minimum sessions per user 1\n",
      "Average sessions per user 9.181945743685688\n",
      "Maximum number of times restaurant considered 19524\n",
      "Minimum number of times restaurant considered 24\n"
     ]
    }
   ],
   "source": [
    "print(\"Maximum sessions per user\", user_counts.max().compute()) \n",
    "print(\"Minimum sessions per user\",user_counts.min().compute())\n",
    "print(\"Average sessions per user\", user_counts.mean().compute())\n",
    "print(\"Maximum number of times restaurant considered\",restaurant_counts.max().compute())\n",
    "print(\"Minimum number of times restaurant considered\",restaurant_counts.min().compute())"
   ]
  },
  {
   "cell_type": "markdown",
   "metadata": {},
   "source": [
    "## 3. Create Restaurant-User Count Matrix "
   ]
  },
  {
   "cell_type": "code",
   "execution_count": 4,
   "metadata": {
    "collapsed": true
   },
   "outputs": [],
   "source": [
    "chosen_only = df[df.chosen>0].compute()"
   ]
  },
  {
   "cell_type": "code",
   "execution_count": 54,
   "metadata": {},
   "outputs": [
    {
     "name": "stdout",
     "output_type": "stream",
     "text": [
      "(78524, 103)\n"
     ]
    },
    {
     "data": {
      "text/plain": [
       "2"
      ]
     },
     "execution_count": 54,
     "metadata": {},
     "output_type": "execute_result"
    }
   ],
   "source": [
    "print(chosen_only.shape)\n",
    "#chosen_grouped = chosen_only.groupby(['user_id','item_id']).chosen.sum()\n",
    "chosen_grouped2 = chosen_only.pivot_table(index='user_id', columns='item_id', values='chosen', aggfunc='sum').fillna(0)"
   ]
  },
  {
   "cell_type": "code",
   "execution_count": 123,
   "metadata": {
    "collapsed": true
   },
   "outputs": [],
   "source": [
    "#Reminder how to index in python: chosen_grouped2.loc[[2838,12],[1221,32,43]]\n",
    "#chosen_grouped2\n",
    "#dd.to_csv(chosen_grouped2,\"userRestMat*.csv\")\n",
    "chosen_grouped2.to_csv(\"userRestmat.csv\")"
   ]
  },
  {
   "cell_type": "code",
   "execution_count": 125,
   "metadata": {
    "collapsed": true
   },
   "outputs": [],
   "source": [
    "chosen_grouped2.to_hdf(\"userRestmat.h5\",key='user_id')"
   ]
  },
  {
   "cell_type": "code",
   "execution_count": 3,
   "metadata": {},
   "outputs": [
    {
     "ename": "ModuleNotFoundError",
     "evalue": "No module named 'h5py'",
     "output_type": "error",
     "traceback": [
      "\u001b[0;31m---------------------------------------------------------------------------\u001b[0m",
      "\u001b[0;31mModuleNotFoundError\u001b[0m                       Traceback (most recent call last)",
      "\u001b[0;32m<ipython-input-3-ee36c360dde8>\u001b[0m in \u001b[0;36m<module>\u001b[0;34m()\u001b[0m\n\u001b[0;32m----> 1\u001b[0;31m \u001b[0mda\u001b[0m\u001b[0;34m.\u001b[0m\u001b[0mto_hdf5\u001b[0m\u001b[0;34m(\u001b[0m\u001b[0;34m'rest_choice.h5'\u001b[0m\u001b[0;34m,\u001b[0m \u001b[0;34m{\u001b[0m\u001b[0;34m'/data'\u001b[0m\u001b[0;34m:\u001b[0m \u001b[0mdf\u001b[0m\u001b[0;34m}\u001b[0m\u001b[0;34m)\u001b[0m\u001b[0;34m\u001b[0m\u001b[0m\n\u001b[0m",
      "\u001b[0;32m/home/groups/athey/software/bigData/lib/python3.6/site-packages/dask/array/core.py\u001b[0m in \u001b[0;36mto_hdf5\u001b[0;34m(filename, *args, **kwargs)\u001b[0m\n\u001b[1;32m   4000\u001b[0m     \u001b[0mchunks\u001b[0m \u001b[0;34m=\u001b[0m \u001b[0mkwargs\u001b[0m\u001b[0;34m.\u001b[0m\u001b[0mpop\u001b[0m\u001b[0;34m(\u001b[0m\u001b[0;34m'chunks'\u001b[0m\u001b[0;34m,\u001b[0m \u001b[0;32mTrue\u001b[0m\u001b[0;34m)\u001b[0m\u001b[0;34m\u001b[0m\u001b[0m\n\u001b[1;32m   4001\u001b[0m \u001b[0;34m\u001b[0m\u001b[0m\n\u001b[0;32m-> 4002\u001b[0;31m     \u001b[0;32mimport\u001b[0m \u001b[0mh5py\u001b[0m\u001b[0;34m\u001b[0m\u001b[0m\n\u001b[0m\u001b[1;32m   4003\u001b[0m     \u001b[0;32mwith\u001b[0m \u001b[0mh5py\u001b[0m\u001b[0;34m.\u001b[0m\u001b[0mFile\u001b[0m\u001b[0;34m(\u001b[0m\u001b[0mfilename\u001b[0m\u001b[0;34m)\u001b[0m \u001b[0;32mas\u001b[0m \u001b[0mf\u001b[0m\u001b[0;34m:\u001b[0m\u001b[0;34m\u001b[0m\u001b[0m\n\u001b[1;32m   4004\u001b[0m         dsets = [f.require_dataset(dp, shape=x.shape, dtype=x.dtype,\n",
      "\u001b[0;31mModuleNotFoundError\u001b[0m: No module named 'h5py'"
     ]
    }
   ],
   "source": []
  },
  {
   "cell_type": "code",
   "execution_count": null,
   "metadata": {
    "collapsed": true
   },
   "outputs": [],
   "source": []
  }
 ],
 "metadata": {
  "kernelspec": {
   "display_name": "Python 3",
   "language": "python",
   "name": "python3"
  },
  "language_info": {
   "codemirror_mode": {
    "name": "ipython",
    "version": 3
   },
   "file_extension": ".py",
   "mimetype": "text/x-python",
   "name": "python",
   "nbconvert_exporter": "python",
   "pygments_lexer": "ipython3",
   "version": "3.6.1"
  }
 },
 "nbformat": 4,
 "nbformat_minor": 2
}
