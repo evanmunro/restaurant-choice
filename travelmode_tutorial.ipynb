{
 "cells": [
  {
   "cell_type": "markdown",
   "metadata": {},
   "source": [
    "### TravelMode Tutorial\n",
    "\n",
    "This notebook provides a simple example of how to use Dask and PyTorch to manipulate a simple consumer choice dataset. The toy dataset is [TravelMode](https://rdrr.io/cran/AER/man/TravelMode.html), a small consumer choice dataset recording individual's choice of travel from Sydney to Melbourne, from the R package AER. The model estimated is a multinomial logit model. "
   ]
  },
  {
   "cell_type": "code",
   "execution_count": 34,
   "metadata": {},
   "outputs": [],
   "source": [
    "import dask.dataframe as dd\n",
    "import dask.array as da \n",
    "import pandas as pd \n",
    "import matplotlib.pyplot as plt"
   ]
  },
  {
   "cell_type": "markdown",
   "metadata": {},
   "source": [
    "#### I. Manipulate Data in Dask and Store as HDF5 "
   ]
  },
  {
   "cell_type": "code",
   "execution_count": 35,
   "metadata": {},
   "outputs": [
    {
     "data": {
      "text/html": [
       "<div>\n",
       "<style scoped>\n",
       "    .dataframe tbody tr th:only-of-type {\n",
       "        vertical-align: middle;\n",
       "    }\n",
       "\n",
       "    .dataframe tbody tr th {\n",
       "        vertical-align: top;\n",
       "    }\n",
       "\n",
       "    .dataframe thead th {\n",
       "        text-align: right;\n",
       "    }\n",
       "</style>\n",
       "<table border=\"1\" class=\"dataframe\">\n",
       "  <thead>\n",
       "    <tr style=\"text-align: right;\">\n",
       "      <th></th>\n",
       "      <th>Unnamed: 0</th>\n",
       "      <th>individual</th>\n",
       "      <th>mode</th>\n",
       "      <th>choice</th>\n",
       "      <th>wait</th>\n",
       "      <th>vcost</th>\n",
       "      <th>travel</th>\n",
       "      <th>gcost</th>\n",
       "      <th>income</th>\n",
       "      <th>size</th>\n",
       "    </tr>\n",
       "  </thead>\n",
       "  <tbody>\n",
       "    <tr>\n",
       "      <th>0</th>\n",
       "      <td>1</td>\n",
       "      <td>1</td>\n",
       "      <td>air</td>\n",
       "      <td>no</td>\n",
       "      <td>69</td>\n",
       "      <td>59</td>\n",
       "      <td>100</td>\n",
       "      <td>70</td>\n",
       "      <td>35</td>\n",
       "      <td>1</td>\n",
       "    </tr>\n",
       "    <tr>\n",
       "      <th>1</th>\n",
       "      <td>2</td>\n",
       "      <td>1</td>\n",
       "      <td>train</td>\n",
       "      <td>no</td>\n",
       "      <td>34</td>\n",
       "      <td>31</td>\n",
       "      <td>372</td>\n",
       "      <td>71</td>\n",
       "      <td>35</td>\n",
       "      <td>1</td>\n",
       "    </tr>\n",
       "    <tr>\n",
       "      <th>2</th>\n",
       "      <td>3</td>\n",
       "      <td>1</td>\n",
       "      <td>bus</td>\n",
       "      <td>no</td>\n",
       "      <td>35</td>\n",
       "      <td>25</td>\n",
       "      <td>417</td>\n",
       "      <td>70</td>\n",
       "      <td>35</td>\n",
       "      <td>1</td>\n",
       "    </tr>\n",
       "    <tr>\n",
       "      <th>3</th>\n",
       "      <td>4</td>\n",
       "      <td>1</td>\n",
       "      <td>car</td>\n",
       "      <td>yes</td>\n",
       "      <td>0</td>\n",
       "      <td>10</td>\n",
       "      <td>180</td>\n",
       "      <td>30</td>\n",
       "      <td>35</td>\n",
       "      <td>1</td>\n",
       "    </tr>\n",
       "    <tr>\n",
       "      <th>4</th>\n",
       "      <td>5</td>\n",
       "      <td>2</td>\n",
       "      <td>air</td>\n",
       "      <td>no</td>\n",
       "      <td>64</td>\n",
       "      <td>58</td>\n",
       "      <td>68</td>\n",
       "      <td>68</td>\n",
       "      <td>30</td>\n",
       "      <td>2</td>\n",
       "    </tr>\n",
       "  </tbody>\n",
       "</table>\n",
       "</div>"
      ],
      "text/plain": [
       "   Unnamed: 0  individual   mode choice  wait  vcost  travel  gcost  income  \\\n",
       "0           1           1    air     no    69     59     100     70      35   \n",
       "1           2           1  train     no    34     31     372     71      35   \n",
       "2           3           1    bus     no    35     25     417     70      35   \n",
       "3           4           1    car    yes     0     10     180     30      35   \n",
       "4           5           2    air     no    64     58      68     68      30   \n",
       "\n",
       "   size  \n",
       "0     1  \n",
       "1     1  \n",
       "2     1  \n",
       "3     1  \n",
       "4     2  "
      ]
     },
     "execution_count": 35,
     "metadata": {},
     "output_type": "execute_result"
    }
   ],
   "source": [
    "df = dd.read_csv(\"example/TravelMode.csv\",sep=\",\")\n",
    "df.head()"
   ]
  },
  {
   "cell_type": "code",
   "execution_count": 36,
   "metadata": {},
   "outputs": [
    {
     "name": "stderr",
     "output_type": "stream",
     "text": [
      "/Users/evanmunro/anaconda3/lib/python3.6/site-packages/pandas/core/ops.py:1649: FutureWarning: elementwise comparison failed; returning scalar instead, but in the future will perform elementwise comparison\n",
      "  result = method(y)\n"
     ]
    },
    {
     "data": {
      "text/plain": [
       "individual    int64\n",
       "choice        int64\n",
       "wait          int64\n",
       "vcost         int64\n",
       "travel        int64\n",
       "gcost         int64\n",
       "income        int64\n",
       "size          int64\n",
       "item_idx       int8\n",
       "dtype: object"
      ]
     },
     "execution_count": 36,
     "metadata": {},
     "output_type": "execute_result"
    }
   ],
   "source": [
    "# clean up data \n",
    "df = df.mask(df=='yes',1)\n",
    "df = df.mask(df=='no',0)\n",
    "df = df.categorize(columns=['mode'])\n",
    "df[\"choice\"] = df[\"choice\"].astype(int)\n",
    "df[\"item_idx\"] = df[\"mode\"].cat.codes\n",
    "df = df.drop(['Unnamed: 0','mode'],axis=1)\n",
    "df.head()\n",
    "df.dtypes"
   ]
  },
  {
   "cell_type": "code",
   "execution_count": 37,
   "metadata": {},
   "outputs": [
    {
     "name": "stdout",
     "output_type": "stream",
     "text": [
      "Number of choices:  4\n",
      "Number of choice sessions:  210\n",
      "Average Wait of Chosen:  25.00952380952381\n",
      "Average GCost of Chosen:  103.82380952380953\n"
     ]
    },
    {
     "data": {
      "text/html": [
       "<div>\n",
       "<style scoped>\n",
       "    .dataframe tbody tr th:only-of-type {\n",
       "        vertical-align: middle;\n",
       "    }\n",
       "\n",
       "    .dataframe tbody tr th {\n",
       "        vertical-align: top;\n",
       "    }\n",
       "\n",
       "    .dataframe thead th {\n",
       "        text-align: right;\n",
       "    }\n",
       "</style>\n",
       "<table border=\"1\" class=\"dataframe\">\n",
       "  <thead>\n",
       "    <tr style=\"text-align: right;\">\n",
       "      <th></th>\n",
       "      <th>individual</th>\n",
       "      <th>choice</th>\n",
       "      <th>wait</th>\n",
       "      <th>vcost</th>\n",
       "      <th>travel</th>\n",
       "      <th>gcost</th>\n",
       "      <th>income</th>\n",
       "      <th>size</th>\n",
       "      <th>item_idx</th>\n",
       "    </tr>\n",
       "  </thead>\n",
       "  <tbody>\n",
       "    <tr>\n",
       "      <th>3</th>\n",
       "      <td>1</td>\n",
       "      <td>1</td>\n",
       "      <td>0</td>\n",
       "      <td>10</td>\n",
       "      <td>180</td>\n",
       "      <td>30</td>\n",
       "      <td>35</td>\n",
       "      <td>1</td>\n",
       "      <td>3</td>\n",
       "    </tr>\n",
       "    <tr>\n",
       "      <th>7</th>\n",
       "      <td>2</td>\n",
       "      <td>1</td>\n",
       "      <td>0</td>\n",
       "      <td>11</td>\n",
       "      <td>255</td>\n",
       "      <td>50</td>\n",
       "      <td>30</td>\n",
       "      <td>2</td>\n",
       "      <td>3</td>\n",
       "    </tr>\n",
       "    <tr>\n",
       "      <th>11</th>\n",
       "      <td>3</td>\n",
       "      <td>1</td>\n",
       "      <td>0</td>\n",
       "      <td>23</td>\n",
       "      <td>720</td>\n",
       "      <td>101</td>\n",
       "      <td>40</td>\n",
       "      <td>1</td>\n",
       "      <td>3</td>\n",
       "    </tr>\n",
       "    <tr>\n",
       "      <th>15</th>\n",
       "      <td>4</td>\n",
       "      <td>1</td>\n",
       "      <td>0</td>\n",
       "      <td>5</td>\n",
       "      <td>180</td>\n",
       "      <td>32</td>\n",
       "      <td>70</td>\n",
       "      <td>3</td>\n",
       "      <td>3</td>\n",
       "    </tr>\n",
       "    <tr>\n",
       "      <th>19</th>\n",
       "      <td>5</td>\n",
       "      <td>1</td>\n",
       "      <td>0</td>\n",
       "      <td>8</td>\n",
       "      <td>600</td>\n",
       "      <td>99</td>\n",
       "      <td>45</td>\n",
       "      <td>2</td>\n",
       "      <td>3</td>\n",
       "    </tr>\n",
       "  </tbody>\n",
       "</table>\n",
       "</div>"
      ],
      "text/plain": [
       "    individual  choice  wait  vcost  travel  gcost  income  size  item_idx\n",
       "3            1       1     0     10     180     30      35     1         3\n",
       "7            2       1     0     11     255     50      30     2         3\n",
       "11           3       1     0     23     720    101      40     1         3\n",
       "15           4       1     0      5     180     32      70     3         3\n",
       "19           5       1     0      8     600     99      45     2         3"
      ]
     },
     "execution_count": 37,
     "metadata": {},
     "output_type": "execute_result"
    }
   ],
   "source": [
    "chosen = df[df['choice']==1].persist()\n",
    "print(\"Number of choices: \", chosen.item_idx.nunique().compute()) \n",
    "print(\"Number of choice sessions: \",chosen.individual.nunique().compute())\n",
    "print(\"Average Wait of Chosen: \", chosen.wait.mean().compute())\n",
    "print(\"Average GCost of Chosen: \",chosen.gcost.mean().compute())\n",
    "chosen.head()"
   ]
  },
  {
   "cell_type": "code",
   "execution_count": 38,
   "metadata": {},
   "outputs": [
    {
     "data": {
      "image/png": "[encoded data removed]",
      "text/plain": [
       "<Figure size 432x288 with 1 Axes>"
      ]
     },
     "metadata": {
      "needs_background": "light"
     },
     "output_type": "display_data"
    }
   ],
   "source": [
    "plt.figure() \n",
    "costSum = chosen.gcost.compute() \n",
    "costSum.hist()\n",
    "plt.xlabel('Cost')\n",
    "plt.title('TravelMode Chosen by Cost')\n",
    "plt.grid()\n",
    "plt.show()"
   ]
  },
  {
   "cell_type": "code",
   "execution_count": 39,
   "metadata": {},
   "outputs": [
    {
     "name": "stderr",
     "output_type": "stream",
     "text": [
      "/Users/evanmunro/anaconda3/lib/python3.6/site-packages/pandas/core/ops.py:1649: FutureWarning: elementwise comparison failed; returning scalar instead, but in the future will perform elementwise comparison\n",
      "  result = method(y)\n"
     ]
    }
   ],
   "source": [
    "df['log_gcost'] = da.log(df['gcost'])\n",
    "df = df.set_index(df.individual,sorted=True)"
   ]
  },
  {
   "cell_type": "code",
   "execution_count": 40,
   "metadata": {},
   "outputs": [
    {
     "data": {
      "text/plain": [
       "['TravelMode.h5']"
      ]
     },
     "execution_count": 40,
     "metadata": {},
     "output_type": "execute_result"
    }
   ],
   "source": [
    "df.to_hdf('TravelMode.h5','/data')\n",
    "df['individual'].drop_duplicates().to_hdf('TravelMode.h5','/sessions')\n",
    "df['individual'].drop_duplicates().to_hdf('TravelMode.h5','/users')\n",
    "df['item_idx'].drop_duplicates().to_hdf('TravelMode.h5','/items')"
   ]
  },
  {
   "cell_type": "code",
   "execution_count": 196,
   "metadata": {},
   "outputs": [
    {
     "name": "stderr",
     "output_type": "stream",
     "text": [
      "/Users/evanmunro/anaconda3/lib/python3.6/site-packages/dask/dataframe/core.py:4495: UserWarning: Insufficient elements for `head`. 5 elements requested, only 4 elements available. Try passing larger `npartitions` to `head`.\n",
      "  warnings.warn(msg.format(n, len(r)))\n"
     ]
    },
    {
     "data": {
      "text/plain": [
       "individual\n",
       "1    0\n",
       "1    1\n",
       "1    2\n",
       "1    3\n",
       "Name: item_idx, dtype: int8"
      ]
     },
     "execution_count": 196,
     "metadata": {},
     "output_type": "execute_result"
    }
   ],
   "source": [
    "#make sure that HDF5 file saved correctly \n",
    "test = dd.read_hdf('TravelMode.h5','/items')\n",
    "test.head()"
   ]
  },
  {
   "cell_type": "markdown",
   "metadata": {},
   "source": [
    "#### II. Train and Estimate Multinomial Logit Model"
   ]
  },
  {
   "cell_type": "code",
   "execution_count": 1,
   "metadata": {},
   "outputs": [],
   "source": [
    "from choiceModels import MultinomialLogit \n",
    "from torch.utils.data.dataset import Dataset\n",
    "import torch.nn.functional as F \n",
    "import torch.nn as nn \n",
    "import torch\n",
    "from torch.autograd import Variable "
   ]
  },
  {
   "cell_type": "markdown",
   "metadata": {},
   "source": [
    "First define dataset class to load data for training models"
   ]
  },
  {
   "cell_type": "code",
   "execution_count": 3,
   "metadata": {},
   "outputs": [],
   "source": [
    "#First Define Dataset Class\n",
    "class TravelDataset(Dataset):\n",
    "    def __init__(self, filename,choice_var,feature_vars):\n",
    "        choiceData = pd.HDFStore(filename)\n",
    "        print(choiceData.keys())\n",
    "        #For too big memory for data, can query chunks of data at a time \n",
    "        query = \"index>=\"+str(0)\n",
    "        self.data = choiceData.select(\"data\",query)\n",
    "        self.sessions = choiceData[\"sessions\"]\n",
    "        self.length = len(choiceData[\"sessions\"])\n",
    "        print(self.length)\n",
    "        self.choiceVar = choice_var\n",
    "        self.features = feature_vars\n",
    "      \n",
    "    def __getitem__(self, idx):\n",
    "        session = self.data[self.data.index==(idx+1)]\n",
    "        session_x = session[self.features]\n",
    "        label = session[session[self.choiceVar]==1].item_idx.item()\n",
    "        return (torch.tensor(session_x.to_numpy()), torch.tensor(label))  \n",
    "\n",
    "    def __len__(self):\n",
    "        return self.length\n",
    "    "
   ]
  },
  {
   "cell_type": "markdown",
   "metadata": {},
   "source": [
    "Then, set up model "
   ]
  },
  {
   "cell_type": "code",
   "execution_count": 28,
   "metadata": {},
   "outputs": [
    {
     "name": "stdout",
     "output_type": "stream",
     "text": [
      "['/data', '/items', '/sessions', '/users']\n",
      "210\n"
     ]
    }
   ],
   "source": [
    "\n",
    "device = torch.device(\"cuda:0\" if torch.cuda.is_available() else \"cpu\")\n",
    "datapath = \"TravelMode.h5\"\n",
    "featureCols = [\"wait\",\"travel\",\"gcost\"]\n",
    "choiceVar = \"choice\"\n",
    "\n",
    "train_data = TravelDataset(datapath,choiceVar,featureCols)\n",
    "train_loader = torch.utils.data.DataLoader(train_data, batch_size=3, shuffle=True, num_workers=0)\n",
    "\n",
    "#define model (look at code in presentation)\n",
    "model = MultinomialLogit(len(featureCols))\n",
    "model.to(device)  \n",
    "\n",
    "#optimize log-likelihood for multinomial logit \n",
    "criterion = nn.NLLLoss() \n",
    "#batch SGD with momentum\n",
    "optimizer = torch.optim.SGD(model.parameters(),momentum=0.9,lr=0.000001)"
   ]
  },
  {
   "cell_type": "markdown",
   "metadata": {},
   "source": [
    "Then, train model with batch gradient descent and approximate results from R: "
   ]
  },
  {
   "cell_type": "code",
   "execution_count": 29,
   "metadata": {},
   "outputs": [
    {
     "name": "stdout",
     "output_type": "stream",
     "text": [
      "0  training Loss:  7.193516769295647\n",
      "Training number correct:  19.047619047619047\n",
      "linear.weight tensor([[-0.5134,  0.0013,  0.2273]])\n",
      "100  training Loss:  0.41985761324564613\n",
      "Training number correct:  46.666666666666664\n",
      "linear.weight tensor([[-0.0494, -0.0048,  0.0249]])\n",
      "200  training Loss:  0.40327880354154677\n",
      "Training number correct:  40.476190476190474\n",
      "linear.weight tensor([[-0.0364, -0.0032,  0.0122]])\n",
      "300  training Loss:  0.39709266963459194\n",
      "Training number correct:  42.38095238095238\n",
      "linear.weight tensor([[-0.0368, -0.0036,  0.0120]])\n",
      "400  training Loss:  0.39568971225193567\n",
      "Training number correct:  43.333333333333336\n",
      "linear.weight tensor([[-0.0367, -0.0038,  0.0123]])\n",
      "500  training Loss:  0.4046887684436071\n",
      "Training number correct:  40.95238095238095\n",
      "linear.weight tensor([[-0.0368, -0.0044,  0.0118]])\n",
      "600  training Loss:  0.4247403058267775\n",
      "Training number correct:  38.57142857142857\n",
      "linear.weight tensor([[-0.0366, -0.0017,  0.0116]])\n",
      "700  training Loss:  0.40055812228293647\n",
      "Training number correct:  40.476190476190474\n",
      "linear.weight tensor([[-0.0370, -0.0052,  0.0120]])\n",
      "800  training Loss:  0.3972017511015847\n",
      "Training number correct:  42.857142857142854\n",
      "linear.weight tensor([[-0.0369, -0.0036,  0.0124]])\n",
      "900  training Loss:  0.4067912147158668\n",
      "Training number correct:  41.904761904761905\n",
      "linear.weight tensor([[-0.0365, -0.0017,  0.0119]])\n"
     ]
    }
   ],
   "source": [
    "torch.manual_seed(100) \n",
    "for epoch in range(1000): \n",
    "    corrects = 0 \n",
    "    running_loss = 0 \n",
    "    for data in train_loader: \n",
    "        inputs, labels = data \n",
    "        inputs, labels = Variable(inputs.float()), Variable(labels)   \n",
    "        inputs, labels = inputs.to(device), labels.to(device) \n",
    "        optimizer.zero_grad() \n",
    "        outputs = model(inputs)\n",
    "        _,preds = torch.max(outputs.data,1)\n",
    "        loss = criterion(outputs,labels)\n",
    "        corrects += torch.sum(labels.data == preds)\n",
    "        running_loss += loss.data.item()   \n",
    "        #step of SGD \n",
    "        loss.backward() \n",
    "        optimizer.step()\n",
    "        #for name, param in model.named_parameters(): \n",
    "        #    print(name,param.data) \n",
    "    if epoch%100==0: \n",
    "        print(epoch,\" training Loss: \", running_loss/len(train_data))\n",
    "        print(\"Training number correct: \", 100*corrects.item()/len(train_data))\n",
    "        for name, param in model.named_parameters(): \n",
    "            if param.requires_grad: \n",
    "                print(name,param.data) "
   ]
  },
  {
   "cell_type": "markdown",
   "metadata": {},
   "source": [
    "Finally, train model with first order gradient descent to exactly match the results from R:  "
   ]
  },
  {
   "cell_type": "code",
   "execution_count": 32,
   "metadata": {},
   "outputs": [
    {
     "name": "stdout",
     "output_type": "stream",
     "text": [
      "0  training Loss:  1.1684355735778809\n",
      "Training number correct:  45.23809523809524\n",
      "linear.weight tensor([[-0.0363, -0.0036,  0.0118]])\n",
      "100  training Loss:  1.168421983718872\n",
      "Training number correct:  45.23809523809524\n",
      "linear.weight tensor([[-0.0362, -0.0036,  0.0119]])\n",
      "200  training Loss:  1.1684167385101318\n",
      "Training number correct:  45.23809523809524\n",
      "linear.weight tensor([[-0.0362, -0.0036,  0.0119]])\n"
     ]
    }
   ],
   "source": [
    "train_loader = torch.utils.data.DataLoader(train_data, batch_size=210, shuffle=True, num_workers=0)\n",
    "torch.manual_seed(100) \n",
    "for epoch in range(300): \n",
    "    corrects = 0 \n",
    "    running_loss = 0 \n",
    "    for data in train_loader: \n",
    "        inputs, labels = data \n",
    "        inputs, labels = Variable(inputs.float()), Variable(labels)   \n",
    "        inputs, labels = inputs.to(device), labels.to(device) \n",
    "        optimizer.zero_grad() \n",
    "        outputs = model(inputs)\n",
    "        _,preds = torch.max(outputs.data,1)\n",
    "        loss = criterion(outputs,labels)\n",
    "        corrects += torch.sum(labels.data == preds)\n",
    "        running_loss += loss.data.item()   \n",
    "        #step of SGD \n",
    "        loss.backward() \n",
    "        optimizer.step()\n",
    "        #for name, param in model.named_parameters(): \n",
    "        #    print(name,param.data) \n",
    "    if epoch%100==0: \n",
    "        print(epoch,\" training Loss: \", loss.data.item())\n",
    "        print(\"Training number correct: \", 100*corrects.item()/len(train_data))\n",
    "        for name, param in model.named_parameters(): \n",
    "            if param.requires_grad: \n",
    "                print(name,param.data) "
   ]
  },
  {
   "cell_type": "markdown",
   "metadata": {},
   "source": [
    "This is what Multinomial Logit Class in choiceModels looks like: \n",
    "\n",
    "```\n",
    "class MultinomialLogit(torch.nn.Module):\n",
    "\n",
    "    def __init__(self,m):\n",
    "        super(MultinomialLogit2,self).__init__()\n",
    "        self.linear = torch.nn.Linear(m,1,bias=False)\n",
    "        self.lsmax = torch.nn.LogSoftmax(1)\n",
    "\n",
    "    def forward(self,x):\n",
    "        y_pred=self.linear(x)\n",
    "        y_pred=self.lsmax(y_pred)\n",
    "        return y_pred.squeeze()\n",
    "    ```"
   ]
  },
  {
   "cell_type": "code",
   "execution_count": null,
   "metadata": {},
   "outputs": [],
   "source": []
  }
 ],
 "metadata": {
  "kernelspec": {
   "display_name": "Python 3",
   "language": "python",
   "name": "python3"
  },
  "language_info": {
   "codemirror_mode": {
    "name": "ipython",
    "version": 3
   },
   "file_extension": ".py",
   "mimetype": "text/x-python",
   "name": "python",
   "nbconvert_exporter": "python",
   "pygments_lexer": "ipython3",
   "version": "3.6.8"
  }
 },
 "nbformat": 4,
 "nbformat_minor": 2
}
